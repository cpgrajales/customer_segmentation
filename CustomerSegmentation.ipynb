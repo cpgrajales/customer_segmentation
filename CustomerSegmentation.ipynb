{
  "nbformat": 4,
  "nbformat_minor": 0,
  "metadata": {
    "colab": {
      "name": "CustomerSegmentation.ipynb",
      "provenance": [],
      "collapsed_sections": [],
      "toc_visible": true
    },
    "kernelspec": {
      "name": "python3",
      "display_name": "Python 3"
    }
  },
  "cells": [
    {
      "cell_type": "markdown",
      "metadata": {
        "id": "gcjimI-l826T",
        "colab_type": "text"
      },
      "source": [
        "# Customer Segmentation"
      ]
    },
    {
      "cell_type": "markdown",
      "metadata": {
        "id": "sucq46l6Md0J",
        "colab_type": "text"
      },
      "source": [
        "### Import Packages"
      ]
    },
    {
      "cell_type": "code",
      "metadata": {
        "id": "Ta3PKLpXMU5x",
        "colab_type": "code",
        "colab": {}
      },
      "source": [
        "# !pip install xlrd\n",
        "# import package\n",
        "import pandas as pd\n",
        "import datetime\n",
        "\n",
        "# suppress error warnings\n",
        "import warnings\n",
        "warnings.filterwarnings('ignore')\n",
        "\n",
        "from google.colab import files"
      ],
      "execution_count": 0,
      "outputs": []
    },
    {
      "cell_type": "markdown",
      "metadata": {
        "id": "wZFNlIWQMb9k",
        "colab_type": "text"
      },
      "source": [
        "### Read Data"
      ]
    },
    {
      "cell_type": "code",
      "metadata": {
        "id": "idYRvIIK8tbk",
        "colab_type": "code",
        "outputId": "dd20074c-a4ee-4737-e344-dd61210c2847",
        "colab": {
          "base_uri": "https://localhost:8080/",
          "height": 204
        }
      },
      "source": [
        "# load dataset\n",
        "# data = pd.read_excel(Online Retail.xlsx')\n",
        "data = pd.read_excel('Online Retail.xlsx')\n",
        "\n",
        "# Define Sales Column\n",
        "data['Sales'] = data['Quantity'] * data['UnitPrice']\n",
        "data.head()\n"
      ],
      "execution_count": 0,
      "outputs": [
        {
          "output_type": "execute_result",
          "data": {
            "text/html": [
              "<div>\n",
              "<style scoped>\n",
              "    .dataframe tbody tr th:only-of-type {\n",
              "        vertical-align: middle;\n",
              "    }\n",
              "\n",
              "    .dataframe tbody tr th {\n",
              "        vertical-align: top;\n",
              "    }\n",
              "\n",
              "    .dataframe thead th {\n",
              "        text-align: right;\n",
              "    }\n",
              "</style>\n",
              "<table border=\"1\" class=\"dataframe\">\n",
              "  <thead>\n",
              "    <tr style=\"text-align: right;\">\n",
              "      <th></th>\n",
              "      <th>InvoiceNo</th>\n",
              "      <th>StockCode</th>\n",
              "      <th>Description</th>\n",
              "      <th>Quantity</th>\n",
              "      <th>InvoiceDate</th>\n",
              "      <th>UnitPrice</th>\n",
              "      <th>CustomerID</th>\n",
              "      <th>Country</th>\n",
              "      <th>Sales</th>\n",
              "    </tr>\n",
              "  </thead>\n",
              "  <tbody>\n",
              "    <tr>\n",
              "      <th>0</th>\n",
              "      <td>536365</td>\n",
              "      <td>85123A</td>\n",
              "      <td>WHITE HANGING HEART T-LIGHT HOLDER</td>\n",
              "      <td>6</td>\n",
              "      <td>2010-12-01 08:26:00</td>\n",
              "      <td>2.55</td>\n",
              "      <td>17850.0</td>\n",
              "      <td>United Kingdom</td>\n",
              "      <td>15.30</td>\n",
              "    </tr>\n",
              "    <tr>\n",
              "      <th>1</th>\n",
              "      <td>536365</td>\n",
              "      <td>71053</td>\n",
              "      <td>WHITE METAL LANTERN</td>\n",
              "      <td>6</td>\n",
              "      <td>2010-12-01 08:26:00</td>\n",
              "      <td>3.39</td>\n",
              "      <td>17850.0</td>\n",
              "      <td>United Kingdom</td>\n",
              "      <td>20.34</td>\n",
              "    </tr>\n",
              "    <tr>\n",
              "      <th>2</th>\n",
              "      <td>536365</td>\n",
              "      <td>84406B</td>\n",
              "      <td>CREAM CUPID HEARTS COAT HANGER</td>\n",
              "      <td>8</td>\n",
              "      <td>2010-12-01 08:26:00</td>\n",
              "      <td>2.75</td>\n",
              "      <td>17850.0</td>\n",
              "      <td>United Kingdom</td>\n",
              "      <td>22.00</td>\n",
              "    </tr>\n",
              "    <tr>\n",
              "      <th>3</th>\n",
              "      <td>536365</td>\n",
              "      <td>84029G</td>\n",
              "      <td>KNITTED UNION FLAG HOT WATER BOTTLE</td>\n",
              "      <td>6</td>\n",
              "      <td>2010-12-01 08:26:00</td>\n",
              "      <td>3.39</td>\n",
              "      <td>17850.0</td>\n",
              "      <td>United Kingdom</td>\n",
              "      <td>20.34</td>\n",
              "    </tr>\n",
              "    <tr>\n",
              "      <th>4</th>\n",
              "      <td>536365</td>\n",
              "      <td>84029E</td>\n",
              "      <td>RED WOOLLY HOTTIE WHITE HEART.</td>\n",
              "      <td>6</td>\n",
              "      <td>2010-12-01 08:26:00</td>\n",
              "      <td>3.39</td>\n",
              "      <td>17850.0</td>\n",
              "      <td>United Kingdom</td>\n",
              "      <td>20.34</td>\n",
              "    </tr>\n",
              "  </tbody>\n",
              "</table>\n",
              "</div>"
            ],
            "text/plain": [
              "  InvoiceNo StockCode  ...         Country  Sales\n",
              "0    536365    85123A  ...  United Kingdom  15.30\n",
              "1    536365     71053  ...  United Kingdom  20.34\n",
              "2    536365    84406B  ...  United Kingdom  22.00\n",
              "3    536365    84029G  ...  United Kingdom  20.34\n",
              "4    536365    84029E  ...  United Kingdom  20.34\n",
              "\n",
              "[5 rows x 9 columns]"
            ]
          },
          "metadata": {
            "tags": []
          },
          "execution_count": 148
        }
      ]
    },
    {
      "cell_type": "markdown",
      "metadata": {
        "id": "SvO2r5ueN6vc",
        "colab_type": "text"
      },
      "source": [
        "### Create RFM Segments"
      ]
    },
    {
      "cell_type": "markdown",
      "metadata": {
        "id": "6KLRBRre5wZ7",
        "colab_type": "text"
      },
      "source": [
        "These are the the only 4 things we need to build our RFM segments:\n",
        "1. *customers* : feature that specifies your users,\n",
        "2. *dates* : dates of transactions\n",
        "3. *transactions* : transaction number\n",
        "4. *prices* : price of amount sold"
      ]
    },
    {
      "cell_type": "code",
      "metadata": {
        "id": "pBfoph1PHmRH",
        "colab_type": "code",
        "outputId": "c54ef386-63c7-4204-d634-e034fea47aee",
        "colab": {
          "base_uri": "https://localhost:8080/",
          "height": 34
        }
      },
      "source": [
        "data.shape"
      ],
      "execution_count": 0,
      "outputs": [
        {
          "output_type": "execute_result",
          "data": {
            "text/plain": [
              "(541909, 9)"
            ]
          },
          "metadata": {
            "tags": []
          },
          "execution_count": 149
        }
      ]
    },
    {
      "cell_type": "code",
      "metadata": {
        "id": "aqsk7p-d2HwL",
        "colab_type": "code",
        "colab": {}
      },
      "source": [
        "customers = 'CustomerID'\n",
        "dates = 'InvoiceDate'\n",
        "transactions = 'InvoiceNo'\n",
        "prices = 'Sales'"
      ],
      "execution_count": 0,
      "outputs": []
    },
    {
      "cell_type": "code",
      "metadata": {
        "id": "oLsowadTlBWU",
        "colab_type": "code",
        "colab": {}
      },
      "source": [
        "#clean data\n",
        "\n",
        "data['Description'] = data['Description'].str.strip()\n",
        "data.dropna(axis=0, subset=['InvoiceNo'], inplace=True)\n",
        "data['InvoiceNo'] = data['InvoiceNo'].astype('str')\n",
        "data = data[~data['InvoiceNo'].str.contains('C')]"
      ],
      "execution_count": 0,
      "outputs": []
    },
    {
      "cell_type": "code",
      "metadata": {
        "id": "MnDfwck-l4e4",
        "colab_type": "code",
        "outputId": "32a305e8-65ed-4868-9232-fb7c607792b8",
        "colab": {
          "base_uri": "https://localhost:8080/",
          "height": 680
        }
      },
      "source": [
        "data.Country.drop_duplicates()"
      ],
      "execution_count": 0,
      "outputs": [
        {
          "output_type": "execute_result",
          "data": {
            "text/plain": [
              "0               United Kingdom\n",
              "26                      France\n",
              "197                  Australia\n",
              "385                Netherlands\n",
              "1109                   Germany\n",
              "1236                    Norway\n",
              "1404                      EIRE\n",
              "5320               Switzerland\n",
              "6421                     Spain\n",
              "6608                    Poland\n",
              "7134                  Portugal\n",
              "7214                     Italy\n",
              "7279                   Belgium\n",
              "7986                 Lithuania\n",
              "9783                     Japan\n",
              "14938                  Iceland\n",
              "20000          Channel Islands\n",
              "20017                  Denmark\n",
              "29732                   Cyprus\n",
              "30079                   Sweden\n",
              "34083                  Finland\n",
              "34293                  Austria\n",
              "38313                  Bahrain\n",
              "50791                   Israel\n",
              "69007                   Greece\n",
              "69623                Hong Kong\n",
              "70758                Singapore\n",
              "72985                  Lebanon\n",
              "89570     United Arab Emirates\n",
              "100810            Saudi Arabia\n",
              "103598          Czech Republic\n",
              "119191                  Canada\n",
              "152712             Unspecified\n",
              "157299                  Brazil\n",
              "164464                     USA\n",
              "168149      European Community\n",
              "217684                   Malta\n",
              "395472                     RSA\n",
              "Name: Country, dtype: object"
            ]
          },
          "metadata": {
            "tags": []
          },
          "execution_count": 152
        }
      ]
    },
    {
      "cell_type": "code",
      "metadata": {
        "id": "3Z-jL189lGaJ",
        "colab_type": "code",
        "colab": {}
      },
      "source": [
        "country = \"USA\"\n",
        "\n",
        "# Filter for a single country\n",
        "data_country = data[data.Country == country]"
      ],
      "execution_count": 0,
      "outputs": []
    },
    {
      "cell_type": "code",
      "metadata": {
        "id": "5RJgct3PMgew",
        "colab_type": "code",
        "colab": {}
      },
      "source": [
        "data = data_country\n",
        "\n",
        "NOW = datetime.datetime.now()\n",
        "\n",
        "# RFM Feature Engineering\n",
        "rfmTable = data.groupby(customers).agg({dates: lambda x: (NOW - x.max()).days, transactions: lambda x: len(x), prices: lambda x: x.sum()})\n",
        "rfmTable[dates] = rfmTable[dates].astype(int)\n",
        "rfmTable.rename(columns={dates: 'recency', \n",
        "                         transactions: 'frequency', \n",
        "                         prices: 'monetary_value'}, inplace=True)"
      ],
      "execution_count": 0,
      "outputs": []
    },
    {
      "cell_type": "code",
      "metadata": {
        "id": "YQGmAVWUOBUw",
        "colab_type": "code",
        "outputId": "90c718fe-c8c8-45bc-ac5a-79605951bdc8",
        "colab": {
          "base_uri": "https://localhost:8080/",
          "height": 204
        }
      },
      "source": [
        "rfmTable.head()"
      ],
      "execution_count": 0,
      "outputs": [
        {
          "output_type": "execute_result",
          "data": {
            "text/html": [
              "<div>\n",
              "<style scoped>\n",
              "    .dataframe tbody tr th:only-of-type {\n",
              "        vertical-align: middle;\n",
              "    }\n",
              "\n",
              "    .dataframe tbody tr th {\n",
              "        vertical-align: top;\n",
              "    }\n",
              "\n",
              "    .dataframe thead th {\n",
              "        text-align: right;\n",
              "    }\n",
              "</style>\n",
              "<table border=\"1\" class=\"dataframe\">\n",
              "  <thead>\n",
              "    <tr style=\"text-align: right;\">\n",
              "      <th></th>\n",
              "      <th>recency</th>\n",
              "      <th>frequency</th>\n",
              "      <th>monetary_value</th>\n",
              "    </tr>\n",
              "    <tr>\n",
              "      <th>CustomerID</th>\n",
              "      <th></th>\n",
              "      <th></th>\n",
              "      <th></th>\n",
              "    </tr>\n",
              "  </thead>\n",
              "  <tbody>\n",
              "    <tr>\n",
              "      <th>12558.0</th>\n",
              "      <td>2933</td>\n",
              "      <td>11</td>\n",
              "      <td>269.96</td>\n",
              "    </tr>\n",
              "    <tr>\n",
              "      <th>12607.0</th>\n",
              "      <td>2986</td>\n",
              "      <td>101</td>\n",
              "      <td>1579.51</td>\n",
              "    </tr>\n",
              "    <tr>\n",
              "      <th>12646.0</th>\n",
              "      <td>2930</td>\n",
              "      <td>45</td>\n",
              "      <td>1346.97</td>\n",
              "    </tr>\n",
              "    <tr>\n",
              "      <th>12733.0</th>\n",
              "      <td>3160</td>\n",
              "      <td>22</td>\n",
              "      <td>383.95</td>\n",
              "    </tr>\n",
              "  </tbody>\n",
              "</table>\n",
              "</div>"
            ],
            "text/plain": [
              "            recency  frequency  monetary_value\n",
              "CustomerID                                    \n",
              "12558.0        2933         11          269.96\n",
              "12607.0        2986        101         1579.51\n",
              "12646.0        2930         45         1346.97\n",
              "12733.0        3160         22          383.95"
            ]
          },
          "metadata": {
            "tags": []
          },
          "execution_count": 155
        }
      ]
    },
    {
      "cell_type": "code",
      "metadata": {
        "id": "w8p8VXj2IRTj",
        "colab_type": "code",
        "outputId": "cdb8ad29-7236-4c41-d9b9-23adc317fe8d",
        "colab": {
          "base_uri": "https://localhost:8080/",
          "height": 34
        }
      },
      "source": [
        "rfmTable.shape"
      ],
      "execution_count": 0,
      "outputs": [
        {
          "output_type": "execute_result",
          "data": {
            "text/plain": [
              "(4, 3)"
            ]
          },
          "metadata": {
            "tags": []
          },
          "execution_count": 156
        }
      ]
    },
    {
      "cell_type": "markdown",
      "metadata": {
        "id": "LjJU0mgh6uRg",
        "colab_type": "text"
      },
      "source": [
        "### Segment Users Based on Quantiles \n",
        "\n",
        "The easiest way to split metrics into segments is by using quartiles.  \n",
        "\n",
        "1. This gives us a starting point for the detailed analysis.\n",
        "2. 4 segments are easy to understand and explain.\n"
      ]
    },
    {
      "cell_type": "code",
      "metadata": {
        "id": "c-rOYfZg7KRT",
        "colab_type": "code",
        "outputId": "5e41a0b6-79d3-4e5d-ab8e-cce608dd0375",
        "colab": {
          "base_uri": "https://localhost:8080/",
          "height": 297
        }
      },
      "source": [
        "quantiles = rfmTable.describe()\n",
        "quantiles"
      ],
      "execution_count": 0,
      "outputs": [
        {
          "output_type": "execute_result",
          "data": {
            "text/html": [
              "<div>\n",
              "<style scoped>\n",
              "    .dataframe tbody tr th:only-of-type {\n",
              "        vertical-align: middle;\n",
              "    }\n",
              "\n",
              "    .dataframe tbody tr th {\n",
              "        vertical-align: top;\n",
              "    }\n",
              "\n",
              "    .dataframe thead th {\n",
              "        text-align: right;\n",
              "    }\n",
              "</style>\n",
              "<table border=\"1\" class=\"dataframe\">\n",
              "  <thead>\n",
              "    <tr style=\"text-align: right;\">\n",
              "      <th></th>\n",
              "      <th>recency</th>\n",
              "      <th>frequency</th>\n",
              "      <th>monetary_value</th>\n",
              "    </tr>\n",
              "  </thead>\n",
              "  <tbody>\n",
              "    <tr>\n",
              "      <th>count</th>\n",
              "      <td>4.000000</td>\n",
              "      <td>4.000000</td>\n",
              "      <td>4.000000</td>\n",
              "    </tr>\n",
              "    <tr>\n",
              "      <th>mean</th>\n",
              "      <td>3002.250000</td>\n",
              "      <td>44.750000</td>\n",
              "      <td>895.097500</td>\n",
              "    </tr>\n",
              "    <tr>\n",
              "      <th>std</th>\n",
              "      <td>108.266261</td>\n",
              "      <td>40.086365</td>\n",
              "      <td>664.499282</td>\n",
              "    </tr>\n",
              "    <tr>\n",
              "      <th>min</th>\n",
              "      <td>2930.000000</td>\n",
              "      <td>11.000000</td>\n",
              "      <td>269.960000</td>\n",
              "    </tr>\n",
              "    <tr>\n",
              "      <th>25%</th>\n",
              "      <td>2932.250000</td>\n",
              "      <td>19.250000</td>\n",
              "      <td>355.452500</td>\n",
              "    </tr>\n",
              "    <tr>\n",
              "      <th>50%</th>\n",
              "      <td>2959.500000</td>\n",
              "      <td>33.500000</td>\n",
              "      <td>865.460000</td>\n",
              "    </tr>\n",
              "    <tr>\n",
              "      <th>75%</th>\n",
              "      <td>3029.500000</td>\n",
              "      <td>59.000000</td>\n",
              "      <td>1405.105000</td>\n",
              "    </tr>\n",
              "    <tr>\n",
              "      <th>max</th>\n",
              "      <td>3160.000000</td>\n",
              "      <td>101.000000</td>\n",
              "      <td>1579.510000</td>\n",
              "    </tr>\n",
              "  </tbody>\n",
              "</table>\n",
              "</div>"
            ],
            "text/plain": [
              "           recency   frequency  monetary_value\n",
              "count     4.000000    4.000000        4.000000\n",
              "mean   3002.250000   44.750000      895.097500\n",
              "std     108.266261   40.086365      664.499282\n",
              "min    2930.000000   11.000000      269.960000\n",
              "25%    2932.250000   19.250000      355.452500\n",
              "50%    2959.500000   33.500000      865.460000\n",
              "75%    3029.500000   59.000000     1405.105000\n",
              "max    3160.000000  101.000000     1579.510000"
            ]
          },
          "metadata": {
            "tags": []
          },
          "execution_count": 157
        }
      ]
    },
    {
      "cell_type": "code",
      "metadata": {
        "id": "LEmbVr3UPOHa",
        "colab_type": "code",
        "colab": {}
      },
      "source": [
        "## RFM scorer\n",
        "segmented_rfm = rfmTable.copy()\n",
        "\n",
        "def RScore(x, p, d):\n",
        "    if x <= d[p]['25%']:\n",
        "        return 1\n",
        "    elif x <= d[p]['50%']:\n",
        "        return 2\n",
        "    elif x <= d[p]['75%']: \n",
        "        return 3\n",
        "    else:\n",
        "        return 4\n",
        "    \n",
        "def FMScore(x,p,d):\n",
        "    if x <= d[p]['25%']:\n",
        "        return 4\n",
        "    elif x <= d[p]['50%']:\n",
        "        return 3\n",
        "    elif x <= d[p]['75%']: \n",
        "        return 2\n",
        "    else:\n",
        "        return 1"
      ],
      "execution_count": 0,
      "outputs": []
    },
    {
      "cell_type": "markdown",
      "metadata": {
        "id": "OSAlFrJ-BhsZ",
        "colab_type": "text"
      },
      "source": [
        "### Score Users"
      ]
    },
    {
      "cell_type": "code",
      "metadata": {
        "id": "W1Fdd7Z091V_",
        "colab_type": "code",
        "outputId": "a9f0b92a-0237-4860-9b41-f991ef152b02",
        "colab": {
          "base_uri": "https://localhost:8080/",
          "height": 204
        }
      },
      "source": [
        "### Score each user\n",
        "segmented_rfm['r_quartile'] = segmented_rfm['recency'].apply(RScore, args=('recency', quantiles,))\n",
        "segmented_rfm['f_quartile'] = segmented_rfm['frequency'].apply(FMScore, args=('frequency',quantiles,))\n",
        "segmented_rfm['m_quartile'] = segmented_rfm['monetary_value'].apply(FMScore, args=('monetary_value',quantiles,))\n",
        "\n",
        "### Merge Scores\n",
        "segmented_rfm['RFMScore'] = segmented_rfm.r_quartile.map(str) + segmented_rfm.f_quartile.map(str) + segmented_rfm.m_quartile.map(str)\n",
        "segmented_rfm['RFMScore'] = segmented_rfm['RFMScore'].map(int)\n",
        "\n",
        "segmented_rfm.head()"
      ],
      "execution_count": 0,
      "outputs": [
        {
          "output_type": "execute_result",
          "data": {
            "text/html": [
              "<div>\n",
              "<style scoped>\n",
              "    .dataframe tbody tr th:only-of-type {\n",
              "        vertical-align: middle;\n",
              "    }\n",
              "\n",
              "    .dataframe tbody tr th {\n",
              "        vertical-align: top;\n",
              "    }\n",
              "\n",
              "    .dataframe thead th {\n",
              "        text-align: right;\n",
              "    }\n",
              "</style>\n",
              "<table border=\"1\" class=\"dataframe\">\n",
              "  <thead>\n",
              "    <tr style=\"text-align: right;\">\n",
              "      <th></th>\n",
              "      <th>recency</th>\n",
              "      <th>frequency</th>\n",
              "      <th>monetary_value</th>\n",
              "      <th>r_quartile</th>\n",
              "      <th>f_quartile</th>\n",
              "      <th>m_quartile</th>\n",
              "      <th>RFMScore</th>\n",
              "    </tr>\n",
              "    <tr>\n",
              "      <th>CustomerID</th>\n",
              "      <th></th>\n",
              "      <th></th>\n",
              "      <th></th>\n",
              "      <th></th>\n",
              "      <th></th>\n",
              "      <th></th>\n",
              "      <th></th>\n",
              "    </tr>\n",
              "  </thead>\n",
              "  <tbody>\n",
              "    <tr>\n",
              "      <th>12558.0</th>\n",
              "      <td>2933</td>\n",
              "      <td>11</td>\n",
              "      <td>269.96</td>\n",
              "      <td>2</td>\n",
              "      <td>4</td>\n",
              "      <td>4</td>\n",
              "      <td>244</td>\n",
              "    </tr>\n",
              "    <tr>\n",
              "      <th>12607.0</th>\n",
              "      <td>2986</td>\n",
              "      <td>101</td>\n",
              "      <td>1579.51</td>\n",
              "      <td>3</td>\n",
              "      <td>1</td>\n",
              "      <td>1</td>\n",
              "      <td>311</td>\n",
              "    </tr>\n",
              "    <tr>\n",
              "      <th>12646.0</th>\n",
              "      <td>2930</td>\n",
              "      <td>45</td>\n",
              "      <td>1346.97</td>\n",
              "      <td>1</td>\n",
              "      <td>2</td>\n",
              "      <td>2</td>\n",
              "      <td>122</td>\n",
              "    </tr>\n",
              "    <tr>\n",
              "      <th>12733.0</th>\n",
              "      <td>3160</td>\n",
              "      <td>22</td>\n",
              "      <td>383.95</td>\n",
              "      <td>4</td>\n",
              "      <td>3</td>\n",
              "      <td>3</td>\n",
              "      <td>433</td>\n",
              "    </tr>\n",
              "  </tbody>\n",
              "</table>\n",
              "</div>"
            ],
            "text/plain": [
              "            recency  frequency  ...  m_quartile  RFMScore\n",
              "CustomerID                      ...                      \n",
              "12558.0        2933         11  ...           4       244\n",
              "12607.0        2986        101  ...           1       311\n",
              "12646.0        2930         45  ...           2       122\n",
              "12733.0        3160         22  ...           3       433\n",
              "\n",
              "[4 rows x 7 columns]"
            ]
          },
          "metadata": {
            "tags": []
          },
          "execution_count": 159
        }
      ]
    },
    {
      "cell_type": "code",
      "metadata": {
        "id": "a4jo_kVcDunQ",
        "colab_type": "code",
        "colab": {}
      },
      "source": [
        "data.to_csv('some_data.csv')"
      ],
      "execution_count": 0,
      "outputs": []
    },
    {
      "cell_type": "code",
      "metadata": {
        "id": "Hf1JZuuNDM34",
        "colab_type": "code",
        "colab": {}
      },
      "source": [
        "\n",
        "segmented_rfm.to_csv('some_file_name.csv')\n",
        "\n",
        "files.download('some_file_name.csv')"
      ],
      "execution_count": 0,
      "outputs": []
    },
    {
      "cell_type": "markdown",
      "metadata": {
        "id": "-Q-gMWa_F5lI",
        "colab_type": "text"
      },
      "source": [
        "## Identify Customer Segments"
      ]
    },
    {
      "cell_type": "markdown",
      "metadata": {
        "id": "mZz3G-V7B4EE",
        "colab_type": "text"
      },
      "source": [
        "### Who are the top 10 of our best customers?  \n",
        "RFM Score of *111*."
      ]
    },
    {
      "cell_type": "code",
      "metadata": {
        "id": "L0tHhKzeBWVZ",
        "colab_type": "code",
        "outputId": "f809c641-1770-466f-dde8-827edc4c6176",
        "colab": {
          "base_uri": "https://localhost:8080/",
          "height": 34
        }
      },
      "source": [
        "segmented_rfm['RFMScore'].sort_values().unique()"
      ],
      "execution_count": 0,
      "outputs": [
        {
          "output_type": "execute_result",
          "data": {
            "text/plain": [
              "array([122, 244, 311, 433])"
            ]
          },
          "metadata": {
            "tags": []
          },
          "execution_count": 163
        }
      ]
    },
    {
      "cell_type": "code",
      "metadata": {
        "id": "Oa2Aur7MBVI4",
        "colab_type": "code",
        "outputId": "636158e1-009f-4991-8987-40d5e09ad10d",
        "colab": {
          "base_uri": "https://localhost:8080/",
          "height": 80
        }
      },
      "source": [
        "segmented_rfm[segmented_rfm['RFMScore']==111]"
      ],
      "execution_count": 0,
      "outputs": [
        {
          "output_type": "execute_result",
          "data": {
            "text/html": [
              "<div>\n",
              "<style scoped>\n",
              "    .dataframe tbody tr th:only-of-type {\n",
              "        vertical-align: middle;\n",
              "    }\n",
              "\n",
              "    .dataframe tbody tr th {\n",
              "        vertical-align: top;\n",
              "    }\n",
              "\n",
              "    .dataframe thead th {\n",
              "        text-align: right;\n",
              "    }\n",
              "</style>\n",
              "<table border=\"1\" class=\"dataframe\">\n",
              "  <thead>\n",
              "    <tr style=\"text-align: right;\">\n",
              "      <th></th>\n",
              "      <th>recency</th>\n",
              "      <th>frequency</th>\n",
              "      <th>monetary_value</th>\n",
              "      <th>r_quartile</th>\n",
              "      <th>f_quartile</th>\n",
              "      <th>m_quartile</th>\n",
              "      <th>RFMScore</th>\n",
              "    </tr>\n",
              "    <tr>\n",
              "      <th>CustomerID</th>\n",
              "      <th></th>\n",
              "      <th></th>\n",
              "      <th></th>\n",
              "      <th></th>\n",
              "      <th></th>\n",
              "      <th></th>\n",
              "      <th></th>\n",
              "    </tr>\n",
              "  </thead>\n",
              "  <tbody>\n",
              "  </tbody>\n",
              "</table>\n",
              "</div>"
            ],
            "text/plain": [
              "Empty DataFrame\n",
              "Columns: [recency, frequency, monetary_value, r_quartile, f_quartile, m_quartile, RFMScore]\n",
              "Index: []"
            ]
          },
          "metadata": {
            "tags": []
          },
          "execution_count": 164
        }
      ]
    },
    {
      "cell_type": "markdown",
      "metadata": {
        "id": "wnuV-fHgC0i0",
        "colab_type": "text"
      },
      "source": [
        "### Who are our Loyal Customers?  \n",
        "Frequency score of *1*."
      ]
    },
    {
      "cell_type": "code",
      "metadata": {
        "id": "VzUc6a3kCrVL",
        "colab_type": "code",
        "outputId": "9fe3a1cb-385a-41c8-f219-e7c0fc2bc98a",
        "colab": {
          "base_uri": "https://localhost:8080/",
          "height": 111
        }
      },
      "source": [
        "segmented_rfm[segmented_rfm['f_quartile']==1].sort_values('frequency', ascending=False).tail(10)"
      ],
      "execution_count": 0,
      "outputs": [
        {
          "output_type": "execute_result",
          "data": {
            "text/html": [
              "<div>\n",
              "<style scoped>\n",
              "    .dataframe tbody tr th:only-of-type {\n",
              "        vertical-align: middle;\n",
              "    }\n",
              "\n",
              "    .dataframe tbody tr th {\n",
              "        vertical-align: top;\n",
              "    }\n",
              "\n",
              "    .dataframe thead th {\n",
              "        text-align: right;\n",
              "    }\n",
              "</style>\n",
              "<table border=\"1\" class=\"dataframe\">\n",
              "  <thead>\n",
              "    <tr style=\"text-align: right;\">\n",
              "      <th></th>\n",
              "      <th>recency</th>\n",
              "      <th>frequency</th>\n",
              "      <th>monetary_value</th>\n",
              "      <th>r_quartile</th>\n",
              "      <th>f_quartile</th>\n",
              "      <th>m_quartile</th>\n",
              "      <th>RFMScore</th>\n",
              "    </tr>\n",
              "    <tr>\n",
              "      <th>CustomerID</th>\n",
              "      <th></th>\n",
              "      <th></th>\n",
              "      <th></th>\n",
              "      <th></th>\n",
              "      <th></th>\n",
              "      <th></th>\n",
              "      <th></th>\n",
              "    </tr>\n",
              "  </thead>\n",
              "  <tbody>\n",
              "    <tr>\n",
              "      <th>12607.0</th>\n",
              "      <td>2986</td>\n",
              "      <td>101</td>\n",
              "      <td>1579.51</td>\n",
              "      <td>3</td>\n",
              "      <td>1</td>\n",
              "      <td>1</td>\n",
              "      <td>311</td>\n",
              "    </tr>\n",
              "  </tbody>\n",
              "</table>\n",
              "</div>"
            ],
            "text/plain": [
              "            recency  frequency  ...  m_quartile  RFMScore\n",
              "CustomerID                      ...                      \n",
              "12607.0        2986        101  ...           1       311\n",
              "\n",
              "[1 rows x 7 columns]"
            ]
          },
          "metadata": {
            "tags": []
          },
          "execution_count": 165
        }
      ]
    },
    {
      "cell_type": "markdown",
      "metadata": {
        "id": "IU7qJ9cNE4jN",
        "colab_type": "text"
      },
      "source": [
        "### Who are our Big Spenders?  \n",
        "Monetary value score of *1*."
      ]
    },
    {
      "cell_type": "code",
      "metadata": {
        "id": "n6IkARh3E--Z",
        "colab_type": "code",
        "outputId": "a11b49b4-c0e5-44d8-9bcc-5325191ef487",
        "colab": {
          "base_uri": "https://localhost:8080/",
          "height": 111
        }
      },
      "source": [
        "segmented_rfm[segmented_rfm['m_quartile']==1].sort_values('monetary_value', ascending=False).tail(10)"
      ],
      "execution_count": 0,
      "outputs": [
        {
          "output_type": "execute_result",
          "data": {
            "text/html": [
              "<div>\n",
              "<style scoped>\n",
              "    .dataframe tbody tr th:only-of-type {\n",
              "        vertical-align: middle;\n",
              "    }\n",
              "\n",
              "    .dataframe tbody tr th {\n",
              "        vertical-align: top;\n",
              "    }\n",
              "\n",
              "    .dataframe thead th {\n",
              "        text-align: right;\n",
              "    }\n",
              "</style>\n",
              "<table border=\"1\" class=\"dataframe\">\n",
              "  <thead>\n",
              "    <tr style=\"text-align: right;\">\n",
              "      <th></th>\n",
              "      <th>recency</th>\n",
              "      <th>frequency</th>\n",
              "      <th>monetary_value</th>\n",
              "      <th>r_quartile</th>\n",
              "      <th>f_quartile</th>\n",
              "      <th>m_quartile</th>\n",
              "      <th>RFMScore</th>\n",
              "    </tr>\n",
              "    <tr>\n",
              "      <th>CustomerID</th>\n",
              "      <th></th>\n",
              "      <th></th>\n",
              "      <th></th>\n",
              "      <th></th>\n",
              "      <th></th>\n",
              "      <th></th>\n",
              "      <th></th>\n",
              "    </tr>\n",
              "  </thead>\n",
              "  <tbody>\n",
              "    <tr>\n",
              "      <th>12607.0</th>\n",
              "      <td>2986</td>\n",
              "      <td>101</td>\n",
              "      <td>1579.51</td>\n",
              "      <td>3</td>\n",
              "      <td>1</td>\n",
              "      <td>1</td>\n",
              "      <td>311</td>\n",
              "    </tr>\n",
              "  </tbody>\n",
              "</table>\n",
              "</div>"
            ],
            "text/plain": [
              "            recency  frequency  ...  m_quartile  RFMScore\n",
              "CustomerID                      ...                      \n",
              "12607.0        2986        101  ...           1       311\n",
              "\n",
              "[1 rows x 7 columns]"
            ]
          },
          "metadata": {
            "tags": []
          },
          "execution_count": 166
        }
      ]
    },
    {
      "cell_type": "markdown",
      "metadata": {
        "id": "rjqjlKfbFLLx",
        "colab_type": "text"
      },
      "source": [
        "### Who are almost lost?  \n",
        "Haven't purchased for some time but spent a lot and transacted a lot.  \n",
        "RFM Score of *311*."
      ]
    },
    {
      "cell_type": "code",
      "metadata": {
        "id": "dWAkTg88FRZV",
        "colab_type": "code",
        "outputId": "51328fee-09a0-4eae-96cc-c2beb518bcb8",
        "colab": {
          "base_uri": "https://localhost:8080/",
          "height": 111
        }
      },
      "source": [
        "segmented_rfm[segmented_rfm['RFMScore']==311].sort_values('monetary_value', ascending=False).head(10)"
      ],
      "execution_count": 0,
      "outputs": [
        {
          "output_type": "execute_result",
          "data": {
            "text/html": [
              "<div>\n",
              "<style scoped>\n",
              "    .dataframe tbody tr th:only-of-type {\n",
              "        vertical-align: middle;\n",
              "    }\n",
              "\n",
              "    .dataframe tbody tr th {\n",
              "        vertical-align: top;\n",
              "    }\n",
              "\n",
              "    .dataframe thead th {\n",
              "        text-align: right;\n",
              "    }\n",
              "</style>\n",
              "<table border=\"1\" class=\"dataframe\">\n",
              "  <thead>\n",
              "    <tr style=\"text-align: right;\">\n",
              "      <th></th>\n",
              "      <th>recency</th>\n",
              "      <th>frequency</th>\n",
              "      <th>monetary_value</th>\n",
              "      <th>r_quartile</th>\n",
              "      <th>f_quartile</th>\n",
              "      <th>m_quartile</th>\n",
              "      <th>RFMScore</th>\n",
              "    </tr>\n",
              "    <tr>\n",
              "      <th>CustomerID</th>\n",
              "      <th></th>\n",
              "      <th></th>\n",
              "      <th></th>\n",
              "      <th></th>\n",
              "      <th></th>\n",
              "      <th></th>\n",
              "      <th></th>\n",
              "    </tr>\n",
              "  </thead>\n",
              "  <tbody>\n",
              "    <tr>\n",
              "      <th>12607.0</th>\n",
              "      <td>2986</td>\n",
              "      <td>101</td>\n",
              "      <td>1579.51</td>\n",
              "      <td>3</td>\n",
              "      <td>1</td>\n",
              "      <td>1</td>\n",
              "      <td>311</td>\n",
              "    </tr>\n",
              "  </tbody>\n",
              "</table>\n",
              "</div>"
            ],
            "text/plain": [
              "            recency  frequency  ...  m_quartile  RFMScore\n",
              "CustomerID                      ...                      \n",
              "12607.0        2986        101  ...           1       311\n",
              "\n",
              "[1 rows x 7 columns]"
            ]
          },
          "metadata": {
            "tags": []
          },
          "execution_count": 167
        }
      ]
    },
    {
      "cell_type": "markdown",
      "metadata": {
        "id": "duhxO5czFf3w",
        "colab_type": "text"
      },
      "source": [
        "### Who are lost?  \n",
        "Haven't purchased in the longest time but spent a lot and transacted a lot.  \n",
        "RFM score of *411*."
      ]
    },
    {
      "cell_type": "code",
      "metadata": {
        "id": "zdibr3Y-FfbC",
        "colab_type": "code",
        "outputId": "4e3adb23-0e75-4032-e033-db144315cefe",
        "colab": {
          "base_uri": "https://localhost:8080/",
          "height": 80
        }
      },
      "source": [
        "segmented_rfm[segmented_rfm['RFMScore']==411].sort_values('monetary_value', ascending=False).head(10)"
      ],
      "execution_count": 0,
      "outputs": [
        {
          "output_type": "execute_result",
          "data": {
            "text/html": [
              "<div>\n",
              "<style scoped>\n",
              "    .dataframe tbody tr th:only-of-type {\n",
              "        vertical-align: middle;\n",
              "    }\n",
              "\n",
              "    .dataframe tbody tr th {\n",
              "        vertical-align: top;\n",
              "    }\n",
              "\n",
              "    .dataframe thead th {\n",
              "        text-align: right;\n",
              "    }\n",
              "</style>\n",
              "<table border=\"1\" class=\"dataframe\">\n",
              "  <thead>\n",
              "    <tr style=\"text-align: right;\">\n",
              "      <th></th>\n",
              "      <th>recency</th>\n",
              "      <th>frequency</th>\n",
              "      <th>monetary_value</th>\n",
              "      <th>r_quartile</th>\n",
              "      <th>f_quartile</th>\n",
              "      <th>m_quartile</th>\n",
              "      <th>RFMScore</th>\n",
              "    </tr>\n",
              "    <tr>\n",
              "      <th>CustomerID</th>\n",
              "      <th></th>\n",
              "      <th></th>\n",
              "      <th></th>\n",
              "      <th></th>\n",
              "      <th></th>\n",
              "      <th></th>\n",
              "      <th></th>\n",
              "    </tr>\n",
              "  </thead>\n",
              "  <tbody>\n",
              "  </tbody>\n",
              "</table>\n",
              "</div>"
            ],
            "text/plain": [
              "Empty DataFrame\n",
              "Columns: [recency, frequency, monetary_value, r_quartile, f_quartile, m_quartile, RFMScore]\n",
              "Index: []"
            ]
          },
          "metadata": {
            "tags": []
          },
          "execution_count": 168
        }
      ]
    },
    {
      "cell_type": "markdown",
      "metadata": {
        "id": "dCS9cDrVCAK7",
        "colab_type": "text"
      },
      "source": [
        "### Who are the bottom 10 worst customers?  \n",
        "RFM score of *444*."
      ]
    },
    {
      "cell_type": "code",
      "metadata": {
        "id": "1BBHq-jcB9Kl",
        "colab_type": "code",
        "outputId": "a28cedb9-e11c-4ad4-b14a-6aa9b7fcf60b",
        "colab": {
          "base_uri": "https://localhost:8080/",
          "height": 80
        }
      },
      "source": [
        "segmented_rfm[segmented_rfm['RFMScore']==444].sort_values('monetary_value', ascending=False).tail(10)"
      ],
      "execution_count": 0,
      "outputs": [
        {
          "output_type": "execute_result",
          "data": {
            "text/html": [
              "<div>\n",
              "<style scoped>\n",
              "    .dataframe tbody tr th:only-of-type {\n",
              "        vertical-align: middle;\n",
              "    }\n",
              "\n",
              "    .dataframe tbody tr th {\n",
              "        vertical-align: top;\n",
              "    }\n",
              "\n",
              "    .dataframe thead th {\n",
              "        text-align: right;\n",
              "    }\n",
              "</style>\n",
              "<table border=\"1\" class=\"dataframe\">\n",
              "  <thead>\n",
              "    <tr style=\"text-align: right;\">\n",
              "      <th></th>\n",
              "      <th>recency</th>\n",
              "      <th>frequency</th>\n",
              "      <th>monetary_value</th>\n",
              "      <th>r_quartile</th>\n",
              "      <th>f_quartile</th>\n",
              "      <th>m_quartile</th>\n",
              "      <th>RFMScore</th>\n",
              "    </tr>\n",
              "    <tr>\n",
              "      <th>CustomerID</th>\n",
              "      <th></th>\n",
              "      <th></th>\n",
              "      <th></th>\n",
              "      <th></th>\n",
              "      <th></th>\n",
              "      <th></th>\n",
              "      <th></th>\n",
              "    </tr>\n",
              "  </thead>\n",
              "  <tbody>\n",
              "  </tbody>\n",
              "</table>\n",
              "</div>"
            ],
            "text/plain": [
              "Empty DataFrame\n",
              "Columns: [recency, frequency, monetary_value, r_quartile, f_quartile, m_quartile, RFMScore]\n",
              "Index: []"
            ]
          },
          "metadata": {
            "tags": []
          },
          "execution_count": 169
        }
      ]
    }
  ]
}